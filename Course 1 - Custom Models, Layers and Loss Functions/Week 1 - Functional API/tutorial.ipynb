{
 "cells": [
  {
   "cell_type": "code",
   "execution_count": 1,
   "metadata": {
    "collapsed": true
   },
   "outputs": [
    {
     "name": "stdout",
     "output_type": "stream",
     "text": [
      "WARNING:tensorflow:From c:\\Users\\Imokut\\AppData\\Local\\Programs\\Python\\Python311\\Lib\\site-packages\\keras\\src\\losses.py:2976: The name tf.losses.sparse_softmax_cross_entropy is deprecated. Please use tf.compat.v1.losses.sparse_softmax_cross_entropy instead.\n",
      "\n"
     ]
    }
   ],
   "source": [
    "import tensorflow as tf"
   ]
  },
  {
   "cell_type": "code",
   "execution_count": 4,
   "metadata": {},
   "outputs": [],
   "source": [
    "from tensorflow.keras.models import Sequential\n",
    "from tensorflow.keras.layers import Flatten, Dense\n"
   ]
  },
  {
   "cell_type": "code",
   "execution_count": 5,
   "metadata": {},
   "outputs": [
    {
     "name": "stdout",
     "output_type": "stream",
     "text": [
      "WARNING:tensorflow:From c:\\Users\\Imokut\\AppData\\Local\\Programs\\Python\\Python311\\Lib\\site-packages\\keras\\src\\backend.py:873: The name tf.get_default_graph is deprecated. Please use tf.compat.v1.get_default_graph instead.\n",
      "\n"
     ]
    }
   ],
   "source": [
    "seq_model = Sequential([\n",
    "    Flatten(input_shape=(28, 28)),\n",
    "    Dense(64, activation='relu'),\n",
    "    Dense(10, activation='softmax')\n",
    "])"
   ]
  },
  {
   "cell_type": "code",
   "execution_count": 6,
   "metadata": {},
   "outputs": [
    {
     "name": "stdout",
     "output_type": "stream",
     "text": [
      "WARNING:tensorflow:From c:\\Users\\Imokut\\AppData\\Local\\Programs\\Python\\Python311\\Lib\\site-packages\\keras\\src\\optimizers\\__init__.py:309: The name tf.train.Optimizer is deprecated. Please use tf.compat.v1.train.Optimizer instead.\n",
      "\n"
     ]
    }
   ],
   "source": [
    "seq_model.compile(loss='sparse_categorical_crossentropy', metrics=['accuracy'])"
   ]
  },
  {
   "cell_type": "code",
   "execution_count": 10,
   "metadata": {},
   "outputs": [
    {
     "name": "stdout",
     "output_type": "stream",
     "text": [
      "Model: \"sequential\"\n",
      "_________________________________________________________________\n",
      " Layer (type)                Output Shape              Param #   \n",
      "=================================================================\n",
      " flatten (Flatten)           (None, 784)               0         \n",
      "                                                                 \n",
      " dense (Dense)               (None, 64)                50240     \n",
      "                                                                 \n",
      " dense_1 (Dense)             (None, 10)                650       \n",
      "                                                                 \n",
      "=================================================================\n",
      "Total params: 50890 (198.79 KB)\n",
      "Trainable params: 50890 (198.79 KB)\n",
      "Non-trainable params: 0 (0.00 Byte)\n",
      "_________________________________________________________________\n"
     ]
    }
   ],
   "source": [
    "seq_model.summary()"
   ]
  },
  {
   "cell_type": "markdown",
   "metadata": {},
   "source": [
    "Functional Layer"
   ]
  },
  {
   "cell_type": "code",
   "execution_count": 7,
   "metadata": {},
   "outputs": [],
   "source": [
    "from tensorflow.keras.layers import Input"
   ]
  },
  {
   "cell_type": "code",
   "execution_count": 8,
   "metadata": {},
   "outputs": [],
   "source": [
    "input = Input(shape=(28, 28))"
   ]
  },
  {
   "cell_type": "code",
   "execution_count": 9,
   "metadata": {},
   "outputs": [],
   "source": [
    "x = Flatten()(input)\n",
    "x = Dense(64, activation='relu')(x)\n",
    "preds = Dense(10, activation = 'softmax')(x)"
   ]
  },
  {
   "cell_type": "code",
   "execution_count": 12,
   "metadata": {},
   "outputs": [],
   "source": [
    "from tensorflow.keras.models import Model"
   ]
  },
  {
   "cell_type": "code",
   "execution_count": 13,
   "metadata": {},
   "outputs": [],
   "source": [
    "func_model = Model(inputs=input, outputs=preds)"
   ]
  },
  {
   "cell_type": "code",
   "execution_count": 15,
   "metadata": {},
   "outputs": [
    {
     "name": "stdout",
     "output_type": "stream",
     "text": [
      "Model: \"model\"\n",
      "_________________________________________________________________\n",
      " Layer (type)                Output Shape              Param #   \n",
      "=================================================================\n",
      " input_1 (InputLayer)        [(None, 28, 28)]          0         \n",
      "                                                                 \n",
      " flatten_1 (Flatten)         (None, 784)               0         \n",
      "                                                                 \n",
      " dense_2 (Dense)             (None, 64)                50240     \n",
      "                                                                 \n",
      " dense_3 (Dense)             (None, 10)                650       \n",
      "                                                                 \n",
      "=================================================================\n",
      "Total params: 50890 (198.79 KB)\n",
      "Trainable params: 50890 (198.79 KB)\n",
      "Non-trainable params: 0 (0.00 Byte)\n",
      "_________________________________________________________________\n"
     ]
    }
   ],
   "source": [
    "func_model.summary()"
   ]
  },
  {
   "cell_type": "code",
   "execution_count": 16,
   "metadata": {},
   "outputs": [],
   "source": [
    "func_model.compile(loss='sparse_categorical_crossentropy', metrics=['accuracy'])"
   ]
  },
  {
   "cell_type": "markdown",
   "metadata": {},
   "source": [
    "Branchine model"
   ]
  },
  {
   "cell_type": "code",
   "execution_count": 19,
   "metadata": {},
   "outputs": [],
   "source": [
    "from tensorflow.keras.layers import Concatenate"
   ]
  },
  {
   "cell_type": "code",
   "execution_count": 20,
   "metadata": {},
   "outputs": [],
   "source": [
    "layer1 = Dense(32)(input)\n",
    "layer2_1 = Dense(32)(layer1)\n",
    "layer2_2 = Dense(32)(layer1)\n",
    "layer2_3 = Dense(32)(layer1)\n",
    "merge = Concatenate([layer2_1, layer2_2, layer2_3])"
   ]
  },
  {
   "cell_type": "markdown",
   "metadata": {},
   "source": [
    "building the model from my screenshot"
   ]
  },
  {
   "cell_type": "code",
   "execution_count": 1,
   "metadata": {},
   "outputs": [],
   "source": [
    "import tensorflow as tf\n",
    "import numpy as np\n",
    "import matplotlib.pyplot as plt\n",
    "import pandas as pd\n",
    "from tensorflow.keras.models import Model\n",
    "from tensorflow.keras.layers import Dense, Input\n",
    "from sklearn.model_selection import train_test_split\n",
    "from tensorflow.keras.utils import plot_model"
   ]
  },
  {
   "cell_type": "code",
   "execution_count": 2,
   "metadata": {},
   "outputs": [],
   "source": [
    "def format_output(data):\n",
    "    y1 = data.pop('Y1')\n",
    "    y1 = np.array(y1)\n",
    "    y2 = data.pop('Y2')\n",
    "    y2 = np.array(y2)\n",
    "    return y1, y2\n",
    "\n",
    "\n",
    "def norm(x):\n",
    "    return (x - train_stats['mean']) / train_stats['std']\n",
    "\n",
    "\n",
    "def plot_diff(y_true, y_pred, title=''):\n",
    "    plt.scatter(y_true, y_pred)\n",
    "    plt.title(title)\n",
    "    plt.xlabel('True Values')\n",
    "    plt.ylabel('Predictions')\n",
    "    plt.axis('equal')\n",
    "    plt.axis('square')\n",
    "    plt.xlim(plt.xlim())\n",
    "    plt.ylim(plt.ylim())\n",
    "    plt.plot([-100, 100], [-100, 100])\n",
    "    plt.show()\n",
    "\n",
    "\n",
    "def plot_metrics(metric_name, title, ylim=5):\n",
    "    plt.title(title)\n",
    "    plt.ylim(0, ylim)\n",
    "    plt.plot(history.history[metric_name], color='blue', label=metric_name)\n",
    "    plt.plot(history.history['val_' + metric_name], color='green', label='val_' + metric_name)\n",
    "    plt.show()"
   ]
  },
  {
   "cell_type": "code",
   "execution_count": 4,
   "metadata": {},
   "outputs": [],
   "source": [
    "# Specify data URI\n",
    "URI = './Labs/data/ENB2012_data.xlsx'\n",
    "\n",
    "# Use pandas excel reader\n",
    "df = pd.read_excel(URI)\n",
    "df = df.sample(frac=1).reset_index(drop=True)\n",
    "\n",
    "\n",
    "# Split the data into train and test with 80 train / 20 test\n",
    "train, test = train_test_split(df, test_size=0.2)\n",
    "train_stats = train.describe()\n",
    "\n",
    "\n",
    "# Get Y1 and Y2 as the 2 outputs and format them as np arrays\n",
    "train_stats.pop('Y1')\n",
    "train_stats.pop('Y2')\n",
    "train_stats = train_stats.transpose()\n",
    "\n",
    "train_Y = format_output(train)\n",
    "test_Y = format_output(test)\n",
    "\n",
    "# Normalize the training and test data\n",
    "norm_train_X = norm(train)\n",
    "norm_test_X = norm(test)"
   ]
  },
  {
   "cell_type": "code",
   "execution_count": 10,
   "metadata": {},
   "outputs": [],
   "source": [
    "input_layer = Input(shape=(len(train .columns), ), name=\"InputLayer\")"
   ]
  },
  {
   "cell_type": "code",
   "execution_count": 11,
   "metadata": {},
   "outputs": [],
   "source": [
    "dense_3 = Dense(128, activation='relu', name='dense_1')(input_layer)\n",
    "dense_4 = Dense(128, activation='relu', name='dense_name')(dense_3)\n"
   ]
  },
  {
   "cell_type": "code",
   "execution_count": 12,
   "metadata": {},
   "outputs": [],
   "source": [
    "y1_output = Dense(1, name='y1_output')(dense_4)"
   ]
  },
  {
   "cell_type": "code",
   "execution_count": 15,
   "metadata": {},
   "outputs": [],
   "source": [
    "dense_5 = Dense(64, activation='relu', name='dense_5')(dense_4)\n",
    "y2_output = Dense(1, name = 'y2_output')(dense_5)\n"
   ]
  },
  {
   "cell_type": "code",
   "execution_count": 16,
   "metadata": {},
   "outputs": [],
   "source": [
    "from tensorflow.keras.models import Model\n",
    "model = Model(inputs=input_layer, outputs=[y1_output, y2_output])"
   ]
  },
  {
   "cell_type": "code",
   "execution_count": 17,
   "metadata": {},
   "outputs": [
    {
     "name": "stdout",
     "output_type": "stream",
     "text": [
      "Model: \"model_1\"\n",
      "__________________________________________________________________________________________________\n",
      " Layer (type)                Output Shape                 Param #   Connected to                  \n",
      "==================================================================================================\n",
      " InputLayer (InputLayer)     [(None, 8)]                  0         []                            \n",
      "                                                                                                  \n",
      " dense_1 (Dense)             (None, 128)                  1152      ['InputLayer[0][0]']          \n",
      "                                                                                                  \n",
      " dense_name (Dense)          (None, 128)                  16512     ['dense_1[0][0]']             \n",
      "                                                                                                  \n",
      " dense_5 (Dense)             (None, 64)                   8256      ['dense_name[0][0]']          \n",
      "                                                                                                  \n",
      " y1_output (Dense)           (None, 1)                    129       ['dense_name[0][0]']          \n",
      "                                                                                                  \n",
      " y2_output (Dense)           (None, 1)                    65        ['dense_5[0][0]']             \n",
      "                                                                                                  \n",
      "==================================================================================================\n",
      "Total params: 26114 (102.01 KB)\n",
      "Trainable params: 26114 (102.01 KB)\n",
      "Non-trainable params: 0 (0.00 Byte)\n",
      "__________________________________________________________________________________________________\n"
     ]
    }
   ],
   "source": [
    "model.summary()"
   ]
  },
  {
   "cell_type": "code",
   "execution_count": 18,
   "metadata": {},
   "outputs": [
    {
     "data": {
      "image/png": "[encoded data removed]",
      "text/plain": [
       "<IPython.core.display.Image object>"
      ]
     },
     "execution_count": 18,
     "metadata": {},
     "output_type": "execute_result"
    }
   ],
   "source": [
    "plot_model(model)"
   ]
  },
  {
   "cell_type": "code",
   "execution_count": 23,
   "metadata": {},
   "outputs": [],
   "source": [
    "model.compile(\n",
    "    loss={\n",
    "        'y1_output':'mse',\n",
    "        'y2_output':'mse'\n",
    "    },\n",
    "    metrics={\n",
    "        'y1_output':tf.keras.metrics.RootMeanSquaredError(),\n",
    "        'y2_output':tf.keras.metrics.RootMeanSquaredError()\n",
    "    },\n",
    "    optimizer='adam'\n",
    ")"
   ]
  },
  {
   "cell_type": "code",
   "execution_count": 24,
   "metadata": {},
   "outputs": [
    {
     "name": "stdout",
     "output_type": "stream",
     "text": [
      "Epoch 1/100\n",
      "31/31 [==============================] - 5s 14ms/step - loss: 1.1953 - y1_output_loss: 0.2947 - y2_output_loss: 0.9006 - y1_output_root_mean_squared_error: 0.5428 - y2_output_root_mean_squared_error: 0.9490\n",
      "Epoch 2/100\n",
      "31/31 [==============================] - 0s 12ms/step - loss: 0.8437 - y1_output_loss: 0.1936 - y2_output_loss: 0.6502 - y1_output_root_mean_squared_error: 0.4399 - y2_output_root_mean_squared_error: 0.8063\n",
      "Epoch 3/100\n",
      "31/31 [==============================] - 0s 10ms/step - loss: 0.6384 - y1_output_loss: 0.1639 - y2_output_loss: 0.4745 - y1_output_root_mean_squared_error: 0.4049 - y2_output_root_mean_squared_error: 0.6888\n",
      "Epoch 4/100\n",
      "31/31 [==============================] - 0s 14ms/step - loss: 0.6479 - y1_output_loss: 0.1637 - y2_output_loss: 0.4842 - y1_output_root_mean_squared_error: 0.4046 - y2_output_root_mean_squared_error: 0.6958\n",
      "Epoch 5/100\n",
      "31/31 [==============================] - 0s 9ms/step - loss: 0.6273 - y1_output_loss: 0.1541 - y2_output_loss: 0.4732 - y1_output_root_mean_squared_error: 0.3925 - y2_output_root_mean_squared_error: 0.6879\n",
      "Epoch 6/100\n",
      "31/31 [==============================] - 0s 11ms/step - loss: 0.7048 - y1_output_loss: 0.1681 - y2_output_loss: 0.5367 - y1_output_root_mean_squared_error: 0.4101 - y2_output_root_mean_squared_error: 0.7326\n",
      "Epoch 7/100\n",
      "31/31 [==============================] - 0s 14ms/step - loss: 0.6649 - y1_output_loss: 0.1754 - y2_output_loss: 0.4894 - y1_output_root_mean_squared_error: 0.4189 - y2_output_root_mean_squared_error: 0.6996\n",
      "Epoch 8/100\n",
      "31/31 [==============================] - 0s 12ms/step - loss: 0.6803 - y1_output_loss: 0.1765 - y2_output_loss: 0.5038 - y1_output_root_mean_squared_error: 0.4201 - y2_output_root_mean_squared_error: 0.7098\n",
      "Epoch 9/100\n",
      "31/31 [==============================] - 0s 9ms/step - loss: 0.6987 - y1_output_loss: 0.1671 - y2_output_loss: 0.5316 - y1_output_root_mean_squared_error: 0.4088 - y2_output_root_mean_squared_error: 0.7291\n",
      "Epoch 10/100\n",
      "31/31 [==============================] - 0s 11ms/step - loss: 0.6175 - y1_output_loss: 0.1576 - y2_output_loss: 0.4599 - y1_output_root_mean_squared_error: 0.3970 - y2_output_root_mean_squared_error: 0.6782\n",
      "Epoch 11/100\n",
      "31/31 [==============================] - 0s 10ms/step - loss: 0.7640 - y1_output_loss: 0.1942 - y2_output_loss: 0.5698 - y1_output_root_mean_squared_error: 0.4407 - y2_output_root_mean_squared_error: 0.7548\n",
      "Epoch 12/100\n",
      "31/31 [==============================] - 0s 8ms/step - loss: 0.6277 - y1_output_loss: 0.1890 - y2_output_loss: 0.4387 - y1_output_root_mean_squared_error: 0.4347 - y2_output_root_mean_squared_error: 0.6624\n",
      "Epoch 13/100\n",
      "31/31 [==============================] - 0s 9ms/step - loss: 0.6907 - y1_output_loss: 0.2213 - y2_output_loss: 0.4695 - y1_output_root_mean_squared_error: 0.4704 - y2_output_root_mean_squared_error: 0.6852\n",
      "Epoch 14/100\n",
      "31/31 [==============================] - 0s 8ms/step - loss: 0.6049 - y1_output_loss: 0.1446 - y2_output_loss: 0.4603 - y1_output_root_mean_squared_error: 0.3803 - y2_output_root_mean_squared_error: 0.6784\n",
      "Epoch 15/100\n",
      "31/31 [==============================] - 0s 11ms/step - loss: 0.6492 - y1_output_loss: 0.1697 - y2_output_loss: 0.4795 - y1_output_root_mean_squared_error: 0.4119 - y2_output_root_mean_squared_error: 0.6925\n",
      "Epoch 16/100\n",
      "31/31 [==============================] - 0s 12ms/step - loss: 0.6159 - y1_output_loss: 0.1690 - y2_output_loss: 0.4469 - y1_output_root_mean_squared_error: 0.4111 - y2_output_root_mean_squared_error: 0.6685\n",
      "Epoch 17/100\n",
      "31/31 [==============================] - 0s 8ms/step - loss: 0.7491 - y1_output_loss: 0.2056 - y2_output_loss: 0.5435 - y1_output_root_mean_squared_error: 0.4535 - y2_output_root_mean_squared_error: 0.7372\n",
      "Epoch 18/100\n",
      "31/31 [==============================] - 1s 16ms/step - loss: 0.5905 - y1_output_loss: 0.1582 - y2_output_loss: 0.4322 - y1_output_root_mean_squared_error: 0.3978 - y2_output_root_mean_squared_error: 0.6574\n",
      "Epoch 19/100\n",
      "31/31 [==============================] - 0s 10ms/step - loss: 0.6993 - y1_output_loss: 0.1674 - y2_output_loss: 0.5319 - y1_output_root_mean_squared_error: 0.4091 - y2_output_root_mean_squared_error: 0.7293\n",
      "Epoch 20/100\n",
      "31/31 [==============================] - 0s 12ms/step - loss: 0.7358 - y1_output_loss: 0.1982 - y2_output_loss: 0.5376 - y1_output_root_mean_squared_error: 0.4452 - y2_output_root_mean_squared_error: 0.7332\n",
      "Epoch 21/100\n",
      "31/31 [==============================] - 0s 12ms/step - loss: 0.5717 - y1_output_loss: 0.1352 - y2_output_loss: 0.4365 - y1_output_root_mean_squared_error: 0.3677 - y2_output_root_mean_squared_error: 0.6607\n",
      "Epoch 22/100\n",
      "31/31 [==============================] - 0s 12ms/step - loss: 0.6156 - y1_output_loss: 0.1617 - y2_output_loss: 0.4539 - y1_output_root_mean_squared_error: 0.4021 - y2_output_root_mean_squared_error: 0.6737\n",
      "Epoch 23/100\n",
      "31/31 [==============================] - 0s 12ms/step - loss: 0.8934 - y1_output_loss: 0.2130 - y2_output_loss: 0.6804 - y1_output_root_mean_squared_error: 0.4615 - y2_output_root_mean_squared_error: 0.8249\n",
      "Epoch 24/100\n",
      "31/31 [==============================] - 0s 8ms/step - loss: 0.9851 - y1_output_loss: 0.2564 - y2_output_loss: 0.7287 - y1_output_root_mean_squared_error: 0.5063 - y2_output_root_mean_squared_error: 0.8537\n",
      "Epoch 25/100\n",
      "31/31 [==============================] - 0s 14ms/step - loss: 0.5850 - y1_output_loss: 0.1575 - y2_output_loss: 0.4275 - y1_output_root_mean_squared_error: 0.3968 - y2_output_root_mean_squared_error: 0.6539\n",
      "Epoch 26/100\n",
      "31/31 [==============================] - 0s 8ms/step - loss: 0.5534 - y1_output_loss: 0.1523 - y2_output_loss: 0.4011 - y1_output_root_mean_squared_error: 0.3903 - y2_output_root_mean_squared_error: 0.6333\n",
      "Epoch 27/100\n",
      "31/31 [==============================] - 0s 7ms/step - loss: 0.6353 - y1_output_loss: 0.1704 - y2_output_loss: 0.4649 - y1_output_root_mean_squared_error: 0.4128 - y2_output_root_mean_squared_error: 0.6818\n",
      "Epoch 28/100\n",
      "31/31 [==============================] - 0s 6ms/step - loss: 0.5137 - y1_output_loss: 0.1444 - y2_output_loss: 0.3693 - y1_output_root_mean_squared_error: 0.3800 - y2_output_root_mean_squared_error: 0.6077\n",
      "Epoch 29/100\n",
      "31/31 [==============================] - 0s 6ms/step - loss: 0.5288 - y1_output_loss: 0.1447 - y2_output_loss: 0.3840 - y1_output_root_mean_squared_error: 0.3804 - y2_output_root_mean_squared_error: 0.6197\n",
      "Epoch 30/100\n",
      "31/31 [==============================] - 0s 8ms/step - loss: 0.4817 - y1_output_loss: 0.1329 - y2_output_loss: 0.3488 - y1_output_root_mean_squared_error: 0.3646 - y2_output_root_mean_squared_error: 0.5906\n",
      "Epoch 31/100\n",
      "31/31 [==============================] - 0s 11ms/step - loss: 0.4747 - y1_output_loss: 0.1322 - y2_output_loss: 0.3425 - y1_output_root_mean_squared_error: 0.3635 - y2_output_root_mean_squared_error: 0.5853\n",
      "Epoch 32/100\n",
      "31/31 [==============================] - 0s 15ms/step - loss: 0.4924 - y1_output_loss: 0.1442 - y2_output_loss: 0.3482 - y1_output_root_mean_squared_error: 0.3798 - y2_output_root_mean_squared_error: 0.5901\n",
      "Epoch 33/100\n",
      "31/31 [==============================] - 0s 10ms/step - loss: 0.5307 - y1_output_loss: 0.1379 - y2_output_loss: 0.3928 - y1_output_root_mean_squared_error: 0.3714 - y2_output_root_mean_squared_error: 0.6267\n",
      "Epoch 34/100\n",
      "31/31 [==============================] - 0s 11ms/step - loss: 0.5054 - y1_output_loss: 0.1391 - y2_output_loss: 0.3663 - y1_output_root_mean_squared_error: 0.3729 - y2_output_root_mean_squared_error: 0.6053\n",
      "Epoch 35/100\n",
      "31/31 [==============================] - 0s 8ms/step - loss: 0.5905 - y1_output_loss: 0.1746 - y2_output_loss: 0.4158 - y1_output_root_mean_squared_error: 0.4179 - y2_output_root_mean_squared_error: 0.6449\n",
      "Epoch 36/100\n",
      "31/31 [==============================] - 0s 12ms/step - loss: 0.5420 - y1_output_loss: 0.1668 - y2_output_loss: 0.3752 - y1_output_root_mean_squared_error: 0.4084 - y2_output_root_mean_squared_error: 0.6125\n",
      "Epoch 37/100\n",
      "31/31 [==============================] - 0s 9ms/step - loss: 0.5244 - y1_output_loss: 0.1469 - y2_output_loss: 0.3775 - y1_output_root_mean_squared_error: 0.3832 - y2_output_root_mean_squared_error: 0.6144\n",
      "Epoch 38/100\n",
      "31/31 [==============================] - 0s 8ms/step - loss: 0.4568 - y1_output_loss: 0.1369 - y2_output_loss: 0.3199 - y1_output_root_mean_squared_error: 0.3700 - y2_output_root_mean_squared_error: 0.5656\n",
      "Epoch 39/100\n",
      "31/31 [==============================] - 0s 9ms/step - loss: 0.5841 - y1_output_loss: 0.1587 - y2_output_loss: 0.4254 - y1_output_root_mean_squared_error: 0.3983 - y2_output_root_mean_squared_error: 0.6522\n",
      "Epoch 40/100\n",
      "31/31 [==============================] - 0s 9ms/step - loss: 0.5281 - y1_output_loss: 0.1482 - y2_output_loss: 0.3798 - y1_output_root_mean_squared_error: 0.3850 - y2_output_root_mean_squared_error: 0.6163\n",
      "Epoch 41/100\n",
      "31/31 [==============================] - 0s 6ms/step - loss: 0.5678 - y1_output_loss: 0.1861 - y2_output_loss: 0.3818 - y1_output_root_mean_squared_error: 0.4314 - y2_output_root_mean_squared_error: 0.6179\n",
      "Epoch 42/100\n",
      "31/31 [==============================] - 0s 8ms/step - loss: 0.4600 - y1_output_loss: 0.1546 - y2_output_loss: 0.3054 - y1_output_root_mean_squared_error: 0.3931 - y2_output_root_mean_squared_error: 0.5527\n",
      "Epoch 43/100\n",
      "31/31 [==============================] - 0s 9ms/step - loss: 0.4981 - y1_output_loss: 0.1523 - y2_output_loss: 0.3459 - y1_output_root_mean_squared_error: 0.3902 - y2_output_root_mean_squared_error: 0.5881\n",
      "Epoch 44/100\n",
      "31/31 [==============================] - 0s 8ms/step - loss: 0.4928 - y1_output_loss: 0.1342 - y2_output_loss: 0.3586 - y1_output_root_mean_squared_error: 0.3664 - y2_output_root_mean_squared_error: 0.5988\n",
      "Epoch 45/100\n",
      "31/31 [==============================] - 0s 8ms/step - loss: 0.4245 - y1_output_loss: 0.1291 - y2_output_loss: 0.2955 - y1_output_root_mean_squared_error: 0.3593 - y2_output_root_mean_squared_error: 0.5436\n",
      "Epoch 46/100\n",
      "31/31 [==============================] - 0s 8ms/step - loss: 0.4375 - y1_output_loss: 0.1392 - y2_output_loss: 0.2983 - y1_output_root_mean_squared_error: 0.3730 - y2_output_root_mean_squared_error: 0.5462\n",
      "Epoch 47/100\n",
      "31/31 [==============================] - 0s 14ms/step - loss: 0.4653 - y1_output_loss: 0.1325 - y2_output_loss: 0.3328 - y1_output_root_mean_squared_error: 0.3640 - y2_output_root_mean_squared_error: 0.5769\n",
      "Epoch 48/100\n",
      "31/31 [==============================] - 0s 11ms/step - loss: 0.4859 - y1_output_loss: 0.1819 - y2_output_loss: 0.3040 - y1_output_root_mean_squared_error: 0.4265 - y2_output_root_mean_squared_error: 0.5514\n",
      "Epoch 49/100\n",
      "31/31 [==============================] - 0s 9ms/step - loss: 0.4512 - y1_output_loss: 0.1240 - y2_output_loss: 0.3272 - y1_output_root_mean_squared_error: 0.3521 - y2_output_root_mean_squared_error: 0.5720\n",
      "Epoch 50/100\n",
      "31/31 [==============================] - 0s 10ms/step - loss: 0.3971 - y1_output_loss: 0.1249 - y2_output_loss: 0.2722 - y1_output_root_mean_squared_error: 0.3535 - y2_output_root_mean_squared_error: 0.5217\n",
      "Epoch 51/100\n",
      "31/31 [==============================] - 0s 10ms/step - loss: 0.4372 - y1_output_loss: 0.1289 - y2_output_loss: 0.3084 - y1_output_root_mean_squared_error: 0.3590 - y2_output_root_mean_squared_error: 0.5553\n",
      "Epoch 52/100\n",
      "31/31 [==============================] - 0s 13ms/step - loss: 0.3801 - y1_output_loss: 0.1147 - y2_output_loss: 0.2654 - y1_output_root_mean_squared_error: 0.3387 - y2_output_root_mean_squared_error: 0.5152\n",
      "Epoch 53/100\n",
      "31/31 [==============================] - 0s 11ms/step - loss: 0.3841 - y1_output_loss: 0.1142 - y2_output_loss: 0.2699 - y1_output_root_mean_squared_error: 0.3379 - y2_output_root_mean_squared_error: 0.5195\n",
      "Epoch 54/100\n",
      "31/31 [==============================] - 0s 14ms/step - loss: 0.4308 - y1_output_loss: 0.1270 - y2_output_loss: 0.3038 - y1_output_root_mean_squared_error: 0.3564 - y2_output_root_mean_squared_error: 0.5512\n",
      "Epoch 55/100\n",
      "31/31 [==============================] - 0s 7ms/step - loss: 0.5801 - y1_output_loss: 0.1502 - y2_output_loss: 0.4299 - y1_output_root_mean_squared_error: 0.3876 - y2_output_root_mean_squared_error: 0.6557\n",
      "Epoch 56/100\n",
      "31/31 [==============================] - 0s 7ms/step - loss: 0.4910 - y1_output_loss: 0.1583 - y2_output_loss: 0.3327 - y1_output_root_mean_squared_error: 0.3978 - y2_output_root_mean_squared_error: 0.5768\n",
      "Epoch 57/100\n",
      "31/31 [==============================] - 0s 13ms/step - loss: 0.3445 - y1_output_loss: 0.1141 - y2_output_loss: 0.2304 - y1_output_root_mean_squared_error: 0.3377 - y2_output_root_mean_squared_error: 0.4800\n",
      "Epoch 58/100\n",
      "31/31 [==============================] - 0s 7ms/step - loss: 0.3749 - y1_output_loss: 0.1177 - y2_output_loss: 0.2572 - y1_output_root_mean_squared_error: 0.3430 - y2_output_root_mean_squared_error: 0.5071\n",
      "Epoch 59/100\n",
      "31/31 [==============================] - 0s 7ms/step - loss: 0.4393 - y1_output_loss: 0.1289 - y2_output_loss: 0.3104 - y1_output_root_mean_squared_error: 0.3590 - y2_output_root_mean_squared_error: 0.5571\n",
      "Epoch 60/100\n",
      "31/31 [==============================] - 0s 6ms/step - loss: 0.4016 - y1_output_loss: 0.1180 - y2_output_loss: 0.2837 - y1_output_root_mean_squared_error: 0.3435 - y2_output_root_mean_squared_error: 0.5326\n",
      "Epoch 61/100\n",
      "31/31 [==============================] - 0s 6ms/step - loss: 0.4007 - y1_output_loss: 0.1254 - y2_output_loss: 0.2753 - y1_output_root_mean_squared_error: 0.3541 - y2_output_root_mean_squared_error: 0.5247\n",
      "Epoch 62/100\n",
      "31/31 [==============================] - 0s 6ms/step - loss: 0.3724 - y1_output_loss: 0.1354 - y2_output_loss: 0.2370 - y1_output_root_mean_squared_error: 0.3680 - y2_output_root_mean_squared_error: 0.4868\n",
      "Epoch 63/100\n",
      "31/31 [==============================] - 0s 8ms/step - loss: 0.4623 - y1_output_loss: 0.1426 - y2_output_loss: 0.3197 - y1_output_root_mean_squared_error: 0.3776 - y2_output_root_mean_squared_error: 0.5654\n",
      "Epoch 64/100\n",
      "31/31 [==============================] - 0s 7ms/step - loss: 0.4863 - y1_output_loss: 0.1472 - y2_output_loss: 0.3390 - y1_output_root_mean_squared_error: 0.3837 - y2_output_root_mean_squared_error: 0.5823\n",
      "Epoch 65/100\n",
      "31/31 [==============================] - 0s 10ms/step - loss: 0.4583 - y1_output_loss: 0.1372 - y2_output_loss: 0.3211 - y1_output_root_mean_squared_error: 0.3704 - y2_output_root_mean_squared_error: 0.5666\n",
      "Epoch 66/100\n",
      "31/31 [==============================] - 0s 11ms/step - loss: 0.3799 - y1_output_loss: 0.1251 - y2_output_loss: 0.2548 - y1_output_root_mean_squared_error: 0.3537 - y2_output_root_mean_squared_error: 0.5047\n",
      "Epoch 67/100\n",
      "31/31 [==============================] - 0s 16ms/step - loss: 0.3601 - y1_output_loss: 0.1111 - y2_output_loss: 0.2490 - y1_output_root_mean_squared_error: 0.3334 - y2_output_root_mean_squared_error: 0.4990\n",
      "Epoch 68/100\n",
      "31/31 [==============================] - 0s 9ms/step - loss: 0.3449 - y1_output_loss: 0.1197 - y2_output_loss: 0.2253 - y1_output_root_mean_squared_error: 0.3459 - y2_output_root_mean_squared_error: 0.4746\n",
      "Epoch 69/100\n",
      "31/31 [==============================] - 0s 7ms/step - loss: 0.3583 - y1_output_loss: 0.1020 - y2_output_loss: 0.2563 - y1_output_root_mean_squared_error: 0.3193 - y2_output_root_mean_squared_error: 0.5063\n",
      "Epoch 70/100\n",
      "31/31 [==============================] - 0s 13ms/step - loss: 0.3837 - y1_output_loss: 0.1279 - y2_output_loss: 0.2558 - y1_output_root_mean_squared_error: 0.3576 - y2_output_root_mean_squared_error: 0.5058\n",
      "Epoch 71/100\n",
      "31/31 [==============================] - 0s 9ms/step - loss: 0.3564 - y1_output_loss: 0.1173 - y2_output_loss: 0.2391 - y1_output_root_mean_squared_error: 0.3425 - y2_output_root_mean_squared_error: 0.4890\n",
      "Epoch 72/100\n",
      "31/31 [==============================] - 0s 8ms/step - loss: 0.3705 - y1_output_loss: 0.1156 - y2_output_loss: 0.2550 - y1_output_root_mean_squared_error: 0.3399 - y2_output_root_mean_squared_error: 0.5050\n",
      "Epoch 73/100\n",
      "31/31 [==============================] - 0s 8ms/step - loss: 0.8150 - y1_output_loss: 0.1941 - y2_output_loss: 0.6209 - y1_output_root_mean_squared_error: 0.4406 - y2_output_root_mean_squared_error: 0.7880\n",
      "Epoch 74/100\n",
      "31/31 [==============================] - 0s 9ms/step - loss: 0.8205 - y1_output_loss: 0.2267 - y2_output_loss: 0.5937 - y1_output_root_mean_squared_error: 0.4762 - y2_output_root_mean_squared_error: 0.7705\n",
      "Epoch 75/100\n",
      "31/31 [==============================] - 0s 7ms/step - loss: 0.4682 - y1_output_loss: 0.1427 - y2_output_loss: 0.3254 - y1_output_root_mean_squared_error: 0.3778 - y2_output_root_mean_squared_error: 0.5705\n",
      "Epoch 76/100\n",
      "31/31 [==============================] - 0s 12ms/step - loss: 0.3397 - y1_output_loss: 0.1035 - y2_output_loss: 0.2362 - y1_output_root_mean_squared_error: 0.3217 - y2_output_root_mean_squared_error: 0.4860\n",
      "Epoch 77/100\n",
      "31/31 [==============================] - 0s 11ms/step - loss: 0.3702 - y1_output_loss: 0.1156 - y2_output_loss: 0.2546 - y1_output_root_mean_squared_error: 0.3400 - y2_output_root_mean_squared_error: 0.5046\n",
      "Epoch 78/100\n",
      "31/31 [==============================] - 0s 6ms/step - loss: 0.3770 - y1_output_loss: 0.1124 - y2_output_loss: 0.2646 - y1_output_root_mean_squared_error: 0.3353 - y2_output_root_mean_squared_error: 0.5144\n",
      "Epoch 79/100\n",
      "31/31 [==============================] - 0s 5ms/step - loss: 0.4318 - y1_output_loss: 0.1125 - y2_output_loss: 0.3192 - y1_output_root_mean_squared_error: 0.3355 - y2_output_root_mean_squared_error: 0.5650\n",
      "Epoch 80/100\n",
      "31/31 [==============================] - 0s 5ms/step - loss: 0.4048 - y1_output_loss: 0.1178 - y2_output_loss: 0.2869 - y1_output_root_mean_squared_error: 0.3433 - y2_output_root_mean_squared_error: 0.5357\n",
      "Epoch 81/100\n",
      "31/31 [==============================] - 0s 12ms/step - loss: 0.5336 - y1_output_loss: 0.1430 - y2_output_loss: 0.3907 - y1_output_root_mean_squared_error: 0.3781 - y2_output_root_mean_squared_error: 0.6250\n",
      "Epoch 82/100\n",
      "31/31 [==============================] - 0s 9ms/step - loss: 0.3752 - y1_output_loss: 0.1272 - y2_output_loss: 0.2480 - y1_output_root_mean_squared_error: 0.3567 - y2_output_root_mean_squared_error: 0.4980\n",
      "Epoch 83/100\n",
      "31/31 [==============================] - 0s 11ms/step - loss: 0.3796 - y1_output_loss: 0.1417 - y2_output_loss: 0.2379 - y1_output_root_mean_squared_error: 0.3765 - y2_output_root_mean_squared_error: 0.4877\n",
      "Epoch 84/100\n",
      "31/31 [==============================] - 0s 10ms/step - loss: 0.2983 - y1_output_loss: 0.0972 - y2_output_loss: 0.2010 - y1_output_root_mean_squared_error: 0.3118 - y2_output_root_mean_squared_error: 0.4484\n",
      "Epoch 85/100\n",
      "31/31 [==============================] - 0s 10ms/step - loss: 0.4257 - y1_output_loss: 0.1335 - y2_output_loss: 0.2922 - y1_output_root_mean_squared_error: 0.3654 - y2_output_root_mean_squared_error: 0.5406\n",
      "Epoch 86/100\n",
      "31/31 [==============================] - 0s 10ms/step - loss: 0.5206 - y1_output_loss: 0.1205 - y2_output_loss: 0.4002 - y1_output_root_mean_squared_error: 0.3471 - y2_output_root_mean_squared_error: 0.6326\n",
      "Epoch 87/100\n",
      "31/31 [==============================] - 0s 9ms/step - loss: 0.4656 - y1_output_loss: 0.1358 - y2_output_loss: 0.3299 - y1_output_root_mean_squared_error: 0.3685 - y2_output_root_mean_squared_error: 0.5743\n",
      "Epoch 88/100\n",
      "31/31 [==============================] - 0s 13ms/step - loss: 0.3584 - y1_output_loss: 0.1040 - y2_output_loss: 0.2544 - y1_output_root_mean_squared_error: 0.3225 - y2_output_root_mean_squared_error: 0.5044\n",
      "Epoch 89/100\n",
      "31/31 [==============================] - 0s 8ms/step - loss: 0.4897 - y1_output_loss: 0.1759 - y2_output_loss: 0.3139 - y1_output_root_mean_squared_error: 0.4193 - y2_output_root_mean_squared_error: 0.5602\n",
      "Epoch 90/100\n",
      "31/31 [==============================] - 0s 11ms/step - loss: 0.4490 - y1_output_loss: 0.1466 - y2_output_loss: 0.3024 - y1_output_root_mean_squared_error: 0.3828 - y2_output_root_mean_squared_error: 0.5499\n",
      "Epoch 91/100\n",
      "31/31 [==============================] - 0s 11ms/step - loss: 0.3124 - y1_output_loss: 0.1101 - y2_output_loss: 0.2022 - y1_output_root_mean_squared_error: 0.3318 - y2_output_root_mean_squared_error: 0.4497\n",
      "Epoch 92/100\n",
      "31/31 [==============================] - 0s 7ms/step - loss: 0.2807 - y1_output_loss: 0.0916 - y2_output_loss: 0.1891 - y1_output_root_mean_squared_error: 0.3027 - y2_output_root_mean_squared_error: 0.4348\n",
      "Epoch 93/100\n",
      "31/31 [==============================] - 0s 8ms/step - loss: 0.3056 - y1_output_loss: 0.0976 - y2_output_loss: 0.2081 - y1_output_root_mean_squared_error: 0.3124 - y2_output_root_mean_squared_error: 0.4561\n",
      "Epoch 94/100\n",
      "31/31 [==============================] - 0s 7ms/step - loss: 0.3479 - y1_output_loss: 0.1167 - y2_output_loss: 0.2312 - y1_output_root_mean_squared_error: 0.3416 - y2_output_root_mean_squared_error: 0.4808\n",
      "Epoch 95/100\n",
      "31/31 [==============================] - 0s 10ms/step - loss: 0.3532 - y1_output_loss: 0.1176 - y2_output_loss: 0.2356 - y1_output_root_mean_squared_error: 0.3429 - y2_output_root_mean_squared_error: 0.4854\n",
      "Epoch 96/100\n",
      "31/31 [==============================] - 0s 8ms/step - loss: 0.3677 - y1_output_loss: 0.1195 - y2_output_loss: 0.2482 - y1_output_root_mean_squared_error: 0.3457 - y2_output_root_mean_squared_error: 0.4982\n",
      "Epoch 97/100\n",
      "31/31 [==============================] - 0s 11ms/step - loss: 0.3357 - y1_output_loss: 0.1185 - y2_output_loss: 0.2172 - y1_output_root_mean_squared_error: 0.3442 - y2_output_root_mean_squared_error: 0.4660\n",
      "Epoch 98/100\n",
      "31/31 [==============================] - 0s 9ms/step - loss: 0.3438 - y1_output_loss: 0.1081 - y2_output_loss: 0.2357 - y1_output_root_mean_squared_error: 0.3288 - y2_output_root_mean_squared_error: 0.4855\n",
      "Epoch 99/100\n",
      "31/31 [==============================] - 0s 13ms/step - loss: 0.3309 - y1_output_loss: 0.1262 - y2_output_loss: 0.2047 - y1_output_root_mean_squared_error: 0.3553 - y2_output_root_mean_squared_error: 0.4524\n",
      "Epoch 100/100\n",
      "31/31 [==============================] - 0s 13ms/step - loss: 0.2835 - y1_output_loss: 0.0896 - y2_output_loss: 0.1940 - y1_output_root_mean_squared_error: 0.2993 - y2_output_root_mean_squared_error: 0.4404\n"
     ]
    },
    {
     "data": {
      "text/plain": [
       "<keras.src.callbacks.History at 0x1cabf489410>"
      ]
     },
     "execution_count": 24,
     "metadata": {},
     "output_type": "execute_result"
    }
   ],
   "source": [
    "model.fit(norm_train_X, train_Y, epochs=100, batch_size=20)"
   ]
  },
  {
   "cell_type": "markdown",
   "metadata": {},
   "source": [
    "Multi Input Model"
   ]
  },
  {
   "cell_type": "code",
   "execution_count": 27,
   "metadata": {},
   "outputs": [],
   "source": [
    "import tensorflow as tf\n",
    "from tensorflow.keras.models import Model\n",
    "from tensorflow.keras.layers import Input, Flatten, Dense, Dropout, Lambda\n",
    "from tensorflow.keras.optimizers import RMSprop\n",
    "from tensorflow.keras.datasets import fashion_mnist\n",
    "from tensorflow.keras.utils import plot_model\n",
    "from tensorflow.keras import backend as K\n",
    "\n",
    "import numpy as np\n",
    "import matplotlib.pyplot as plt\n",
    "from PIL import Image, ImageFont, ImageDraw\n",
    "import random"
   ]
  },
  {
   "cell_type": "code",
   "execution_count": 28,
   "metadata": {},
   "outputs": [],
   "source": [
    "def create_pairs(x, digit_indices):\n",
    "    '''Positive and negative pair creation.\n",
    "    Alternates between positive and negative pairs.\n",
    "    '''\n",
    "    pairs = []\n",
    "    labels = []\n",
    "    n = min([len(digit_indices[d]) for d in range(10)]) - 1\n",
    "    \n",
    "    for d in range(10):\n",
    "        for i in range(n):\n",
    "            z1, z2 = digit_indices[d][i], digit_indices[d][i + 1]\n",
    "            pairs += [[x[z1], x[z2]]]\n",
    "            inc = random.randrange(1, 10)\n",
    "            dn = (d + inc) % 10\n",
    "            z1, z2 = digit_indices[d][i], digit_indices[dn][i]\n",
    "            pairs += [[x[z1], x[z2]]]\n",
    "            labels += [1, 0]\n",
    "            \n",
    "    return np.array(pairs), np.array(labels)\n",
    "\n",
    "\n",
    "def create_pairs_on_set(images, labels):\n",
    "    \n",
    "    digit_indices = [np.where(labels == i)[0] for i in range(10)]\n",
    "    pairs, y = create_pairs(images, digit_indices)\n",
    "    y = y.astype('float32')\n",
    "    \n",
    "    return pairs, y\n",
    "\n",
    "\n",
    "def show_image(image):\n",
    "    plt.figure()\n",
    "    plt.imshow(image)\n",
    "    plt.colorbar()\n",
    "    plt.grid(False)\n",
    "    plt.show()"
   ]
  },
  {
   "cell_type": "code",
   "execution_count": 29,
   "metadata": {},
   "outputs": [],
   "source": [
    "# load the dataset\n",
    "(train_images, train_labels), (test_images, test_labels) = fashion_mnist.load_data()\n",
    "\n",
    "# prepare train and test sets\n",
    "train_images = train_images.astype('float32')\n",
    "test_images = test_images.astype('float32')\n",
    "\n",
    "# normalize values\n",
    "train_images = train_images / 255.0\n",
    "test_images = test_images / 255.0\n",
    "\n",
    "# create pairs on train and test sets\n",
    "tr_pairs, tr_y = create_pairs_on_set(train_images, train_labels)\n",
    "ts_pairs, ts_y = create_pairs_on_set(test_images, test_labels)"
   ]
  },
  {
   "cell_type": "code",
   "execution_count": 65,
   "metadata": {},
   "outputs": [],
   "source": [
    "def init_base_model():\n",
    "    input_layer = Input(shape=(28, 28,), name='base_input')\n",
    "    flatten_input = Flatten(name='flatten_input')(input_layer)\n",
    "    first_dense = Dense(128, activation='relu', name='first_base_dense')(flatten_input)\n",
    "    first_dropout = Dropout(0.1, name='first_dropout')(first_dense)\n",
    "    second_dense = Dense(128, activation='relu', name='second_base_dense')(first_dropout)\n",
    "    second_dropout = Dropout(0.1, name='second_dropout')(second_dense)\n",
    "    third_dense = Dense(128, activation='relu', name='third_base_dense')(second_dropout)\n",
    "    \n",
    "    base_model = Model(inputs=input_layer, outputs=third_dense)\n",
    "    return base_model \n",
    "    \n",
    "    "
   ]
  },
  {
   "cell_type": "code",
   "execution_count": 54,
   "metadata": {},
   "outputs": [],
   "source": [
    "base_model = init_base_model()"
   ]
  },
  {
   "cell_type": "code",
   "execution_count": 55,
   "metadata": {},
   "outputs": [
    {
     "name": "stdout",
     "output_type": "stream",
     "text": [
      "Model: \"model_5\"\n",
      "_________________________________________________________________\n",
      " Layer (type)                Output Shape              Param #   \n",
      "=================================================================\n",
      " base_input (InputLayer)     [(None, 28, 28)]          0         \n",
      "                                                                 \n",
      " flatten_input (Flatten)     (None, 784)               0         \n",
      "                                                                 \n",
      " first_base_dense (Dense)    (None, 128)               100480    \n",
      "                                                                 \n",
      " first_dropout (Dropout)     (None, 128)               0         \n",
      "                                                                 \n",
      " second_base_dense (Dense)   (None, 128)               16512     \n",
      "                                                                 \n",
      " second_dropout (Dropout)    (None, 128)               0         \n",
      "                                                                 \n",
      " third_base_dense (Dense)    (None, 128)               16512     \n",
      "                                                                 \n",
      "=================================================================\n",
      "Total params: 133504 (521.50 KB)\n",
      "Trainable params: 133504 (521.50 KB)\n",
      "Non-trainable params: 0 (0.00 Byte)\n",
      "_________________________________________________________________\n"
     ]
    }
   ],
   "source": [
    "base_model.summary()"
   ]
  },
  {
   "cell_type": "code",
   "execution_count": 56,
   "metadata": {},
   "outputs": [
    {
     "data": {
      "image/png": "[encoded data removed]",
      "text/plain": [
       "<IPython.core.display.Image object>"
      ]
     },
     "execution_count": 56,
     "metadata": {},
     "output_type": "execute_result"
    }
   ],
   "source": [
    "plot_model(base_model, show_shapes=True, show_layer_names=True, show_layer_activations=True)"
   ]
  },
  {
   "cell_type": "code",
   "execution_count": 66,
   "metadata": {},
   "outputs": [],
   "source": [
    "left_input = Input(shape=(28,28,), name ='left_input')\n",
    "left_model = base_model(left_input)\n",
    "\n",
    "right_input = Input(shape=(28,28,), name ='right_input')\n",
    "right_model = base_model(right_input)"
   ]
  },
  {
   "cell_type": "code",
   "execution_count": 58,
   "metadata": {},
   "outputs": [],
   "source": [
    "def euclidean_distance(vects):\n",
    "    x, y = vects\n",
    "    sum_square = K.sum(K.square(x - y), axis=1, keepdims=True)\n",
    "    return K.sqrt(K.maximum(sum_square, K.epsilon()))\n",
    "\n",
    "\n",
    "def eucl_dist_output_shape(shapes):\n",
    "    shape1, shape2 = shapes\n",
    "    return (shape1[0], 1)"
   ]
  },
  {
   "cell_type": "code",
   "execution_count": 67,
   "metadata": {},
   "outputs": [],
   "source": [
    "euc_dist = Lambda(euclidean_distance, name='output_layer', output_shape=eucl_dist_output_shape)([left_model, right_model])"
   ]
  },
  {
   "cell_type": "code",
   "execution_count": 68,
   "metadata": {},
   "outputs": [],
   "source": [
    "final_model = Model([left_input, right_input], euc_dist)"
   ]
  },
  {
   "cell_type": "code",
   "execution_count": 69,
   "metadata": {},
   "outputs": [
    {
     "name": "stdout",
     "output_type": "stream",
     "text": [
      "Model: \"model_7\"\n",
      "__________________________________________________________________________________________________\n",
      " Layer (type)                Output Shape                 Param #   Connected to                  \n",
      "==================================================================================================\n",
      " left_input (InputLayer)     [(None, 28, 28)]             0         []                            \n",
      "                                                                                                  \n",
      " right_input (InputLayer)    [(None, 28, 28)]             0         []                            \n",
      "                                                                                                  \n",
      " model_5 (Functional)        (None, 128)                  133504    ['left_input[0][0]',          \n",
      "                                                                     'right_input[0][0]']         \n",
      "                                                                                                  \n",
      " output_layer (Lambda)       (None, 1)                    0         ['model_5[2][0]',             \n",
      "                                                                     'model_5[3][0]']             \n",
      "                                                                                                  \n",
      "==================================================================================================\n",
      "Total params: 133504 (521.50 KB)\n",
      "Trainable params: 133504 (521.50 KB)\n",
      "Non-trainable params: 0 (0.00 Byte)\n",
      "__________________________________________________________________________________________________\n"
     ]
    }
   ],
   "source": [
    "final_model.summary()"
   ]
  },
  {
   "cell_type": "code",
   "execution_count": 70,
   "metadata": {},
   "outputs": [
    {
     "data": {
      "image/png": "[encoded data removed]",
      "text/plain": [
       "<IPython.core.display.Image object>"
      ]
     },
     "execution_count": 70,
     "metadata": {},
     "output_type": "execute_result"
    }
   ],
   "source": [
    "plot_model(final_model, show_layer_names=True, show_shapes=True, show_layer_activations=True)"
   ]
  },
  {
   "cell_type": "code",
   "execution_count": 71,
   "metadata": {},
   "outputs": [],
   "source": [
    "def contrastive_loss_with_margin(margin):\n",
    "    def contrastive_loss(y_true, y_pred):\n",
    "        '''Contrastive loss from Hadsell-et-al.'06\n",
    "        http://yann.lecun.com/exdb/publis/pdf/hadsell-chopra-lecun-06.pdf\n",
    "        '''\n",
    "        square_pred = K.square(y_pred)\n",
    "        margin_square = K.square(K.maximum(margin - y_pred, 0))\n",
    "        return (y_true * square_pred + (1 - y_true) * margin_square)\n",
    "    return contrastive_loss"
   ]
  },
  {
   "cell_type": "code",
   "execution_count": 74,
   "metadata": {},
   "outputs": [
    {
     "name": "stdout",
     "output_type": "stream",
     "text": [
      "Epoch 1/20\n",
      "938/938 [==============================] - 35s 19ms/step - loss: 0.1316 - val_loss: 0.0937\n",
      "Epoch 2/20\n",
      "938/938 [==============================] - 22s 24ms/step - loss: 0.0918 - val_loss: 0.0835\n",
      "Epoch 3/20\n",
      "938/938 [==============================] - 18s 19ms/step - loss: 0.0826 - val_loss: 0.0776\n",
      "Epoch 4/20\n",
      "938/938 [==============================] - 13s 13ms/step - loss: 0.0768 - val_loss: 0.0744\n",
      "Epoch 5/20\n",
      "938/938 [==============================] - 10s 11ms/step - loss: 0.0722 - val_loss: 0.0692\n",
      "Epoch 6/20\n",
      "938/938 [==============================] - 8s 9ms/step - loss: 0.0691 - val_loss: 0.0670\n",
      "Epoch 7/20\n",
      "938/938 [==============================] - 8s 9ms/step - loss: 0.0676 - val_loss: 0.0698\n",
      "Epoch 8/20\n",
      "938/938 [==============================] - 9s 9ms/step - loss: 0.0659 - val_loss: 0.0662\n",
      "Epoch 9/20\n",
      "938/938 [==============================] - 8s 9ms/step - loss: 0.0645 - val_loss: 0.0659\n",
      "Epoch 10/20\n",
      "938/938 [==============================] - 8s 9ms/step - loss: 0.0635 - val_loss: 0.0695\n",
      "Epoch 11/20\n",
      "938/938 [==============================] - 8s 9ms/step - loss: 0.0622 - val_loss: 0.0652\n",
      "Epoch 12/20\n",
      "938/938 [==============================] - 8s 9ms/step - loss: 0.0621 - val_loss: 0.0653\n",
      "Epoch 13/20\n",
      "938/938 [==============================] - 8s 9ms/step - loss: 0.0609 - val_loss: 0.0644\n",
      "Epoch 14/20\n",
      "938/938 [==============================] - 8s 9ms/step - loss: 0.0605 - val_loss: 0.0651\n",
      "Epoch 15/20\n",
      "938/938 [==============================] - 14s 15ms/step - loss: 0.0597 - val_loss: 0.0640\n",
      "Epoch 16/20\n",
      "938/938 [==============================] - 13s 14ms/step - loss: 0.0596 - val_loss: 0.0667\n",
      "Epoch 17/20\n",
      "938/938 [==============================] - 14s 15ms/step - loss: 0.0588 - val_loss: 0.0642\n",
      "Epoch 18/20\n",
      "938/938 [==============================] - 13s 14ms/step - loss: 0.0583 - val_loss: 0.0665\n",
      "Epoch 19/20\n",
      "938/938 [==============================] - 15s 15ms/step - loss: 0.0579 - val_loss: 0.0651\n",
      "Epoch 20/20\n",
      "938/938 [==============================] - 14s 15ms/step - loss: 0.0573 - val_loss: 0.0646\n"
     ]
    }
   ],
   "source": [
    "rms = RMSprop()\n",
    "final_model.compile(loss=contrastive_loss_with_margin(margin=1), optimizer=rms)\n",
    "history = final_model.fit([tr_pairs[:,0], tr_pairs[:,1]], tr_y, epochs=20, batch_size=128, validation_data=([ts_pairs[:,0], ts_pairs[:,1]], ts_y))"
   ]
  },
  {
   "cell_type": "code",
   "execution_count": null,
   "metadata": {},
   "outputs": [],
   "source": []
  }
 ],
 "metadata": {
  "kernelspec": {
   "display_name": "Python 3",
   "language": "python",
   "name": "python3"
  },
  "language_info": {
   "codemirror_mode": {
    "name": "ipython",
    "version": 3
   },
   "file_extension": ".py",
   "mimetype": "text/x-python",
   "name": "python",
   "nbconvert_exporter": "python",
   "pygments_lexer": "ipython3",
   "version": "3.11.7"
  }
 },
 "nbformat": 4,
 "nbformat_minor": 0
}
