{
 "cells": [
  {
   "cell_type": "code",
   "execution_count": 1,
   "metadata": {
    "collapsed": true
   },
   "outputs": [],
   "source": [
    "import tensorflow as tf"
   ]
  },
  {
   "cell_type": "code",
   "execution_count": 2,
   "outputs": [],
   "source": [
    "from tensorflow.keras.models import Sequential\n",
    "from tensorflow.keras.layers import Flatten, Dense"
   ],
   "metadata": {
    "collapsed": false
   }
  },
  {
   "cell_type": "code",
   "execution_count": 3,
   "outputs": [],
   "source": [
    "seq_model = Sequential([\n",
    "    Flatten(input_shape = (28, 28)),\n",
    "    Dense(128, activation='relu'),\n",
    "    Dense(10, activation='softmax')\n",
    "])"
   ],
   "metadata": {
    "collapsed": false
   }
  },
  {
   "cell_type": "markdown",
   "source": [
    "1. Define the Input layer\n",
    "2. Defined a set of interconnected layers on the input\n",
    "3. Define the model using the input and output"
   ],
   "metadata": {
    "collapsed": false
   }
  },
  {
   "cell_type": "code",
   "execution_count": 4,
   "outputs": [],
   "source": [
    "# Defining the input layer\n",
    "from tensorflow.keras.layers import Input, Dense, Flatten\n",
    "input = Input(shape=(28, 28))\n",
    "# Define the layers\n",
    "x = Flatten()(input)\n",
    "x = Dense(128, activation='relu')(x)\n",
    "predictions = Dense(10, activation='softmax')(x)\n",
    "# define the model\n",
    "from tensorflow.keras.models import Model\n",
    "func_model = Model(inputs=input, outputs=predictions)"
   ],
   "metadata": {
    "collapsed": false
   }
  },
  {
   "cell_type": "code",
   "execution_count": 14,
   "outputs": [
    {
     "ename": "AttributeError",
     "evalue": "'Functional' object has no attribute '_layers'",
     "output_type": "error",
     "traceback": [
      "\u001B[1;31m---------------------------------------------------------------------------\u001B[0m",
      "\u001B[1;31mAttributeError\u001B[0m                            Traceback (most recent call last)",
      "Cell \u001B[1;32mIn[14], line 5\u001B[0m\n\u001B[0;32m      3\u001B[0m \u001B[38;5;28;01mimport\u001B[39;00m \u001B[38;5;21;01mpydot\u001B[39;00m\n\u001B[0;32m      4\u001B[0m \u001B[38;5;28;01mfrom\u001B[39;00m \u001B[38;5;21;01mtensorflow\u001B[39;00m\u001B[38;5;21;01m.\u001B[39;00m\u001B[38;5;21;01mkeras\u001B[39;00m\u001B[38;5;21;01m.\u001B[39;00m\u001B[38;5;21;01mlayers\u001B[39;00m \u001B[38;5;28;01mimport\u001B[39;00m Layer\n\u001B[1;32m----> 5\u001B[0m func_model\u001B[38;5;241m.\u001B[39m_layers \u001B[38;5;241m=\u001B[39m [layer \u001B[38;5;28;01mfor\u001B[39;00m layer \u001B[38;5;129;01min\u001B[39;00m \u001B[43mmodel\u001B[49m\u001B[38;5;241;43m.\u001B[39;49m\u001B[43m_layers\u001B[49m \u001B[38;5;28;01mif\u001B[39;00m \u001B[38;5;28misinstance\u001B[39m(layer, Layer)]\n\u001B[0;32m      6\u001B[0m plot_model(func_model)\n\u001B[0;32m      7\u001B[0m plot_model(func_model, show_shapes\u001B[38;5;241m=\u001B[39m\u001B[38;5;28;01mTrue\u001B[39;00m, show_layer_names\u001B[38;5;241m=\u001B[39m\u001B[38;5;28;01mTrue\u001B[39;00m, to_file\u001B[38;5;241m=\u001B[39m\u001B[38;5;124m'\u001B[39m\u001B[38;5;124mmodel.png\u001B[39m\u001B[38;5;124m'\u001B[39m)\n",
      "\u001B[1;31mAttributeError\u001B[0m: 'Functional' object has no attribute '_layers'"
     ]
    }
   ],
   "source": [
    "import pydot\n",
    "from tensorflow.python.keras.utils.vis_utils import plot_model\n",
    "import pydot\n",
    "from tensorflow.keras.layers import Layer\n",
    "func_model._layers = [layer for layer in model._layers if isinstance(layer, Layer)]\n",
    "plot_model(func_model)\n",
    "plot_model(func_model, show_shapes=True, show_layer_names=True, to_file='model.png')\n"
   ],
   "metadata": {
    "collapsed": false
   }
  },
  {
   "cell_type": "code",
   "execution_count": 8,
   "outputs": [],
   "source": [
    "def build_functional_model():\n",
    "    from tensorflow.keras.models import Model\n",
    "    input_layer = tf.keras.Input(28, 28)\n",
    "    flatten_layer = tf.keras.layers.Flatten()(input_layer)\n",
    "    first_dense = tf.keras.layers.Dense(128, activation=tf.nn.relu)(flatten_layer)\n",
    "    output_layer = tf.keras.layers.Dense(10, activation=tf.nn.softmax)(first_dense)\n",
    "    func_model = Model(inputs= input_layer, outputs = output_layer)\n",
    "    return func_model"
   ],
   "metadata": {
    "collapsed": false
   }
  },
  {
   "cell_type": "markdown",
   "source": [
    "Models can be branched then concatenate"
   ],
   "metadata": {
    "collapsed": false
   }
  },
  {
   "cell_type": "code",
   "execution_count": 9,
   "outputs": [
    {
     "ename": "NameError",
     "evalue": "name 'Concatenate' is not defined",
     "output_type": "error",
     "traceback": [
      "\u001B[1;31m---------------------------------------------------------------------------\u001B[0m",
      "\u001B[1;31mNameError\u001B[0m                                 Traceback (most recent call last)",
      "Cell \u001B[1;32mIn[9], line 6\u001B[0m\n\u001B[0;32m      4\u001B[0m layer2_3 \u001B[38;5;241m=\u001B[39m Dense(\u001B[38;5;241m32\u001B[39m)(layer1)\n\u001B[0;32m      5\u001B[0m layer2_4 \u001B[38;5;241m=\u001B[39m Dense(\u001B[38;5;241m32\u001B[39m)(layer1)\n\u001B[1;32m----> 6\u001B[0m merge \u001B[38;5;241m=\u001B[39m \u001B[43mConcatenate\u001B[49m([layer2_1, layer2_2, layer2_3, layer2_4])\n",
      "\u001B[1;31mNameError\u001B[0m: name 'Concatenate' is not defined"
     ]
    }
   ],
   "source": [
    "layer1 = Input(32)\n",
    "layer2_1 = Dense(32)(layer1)\n",
    "layer2_2 = Dense(32)(layer1)\n",
    "layer2_3 = Dense(32)(layer1)\n",
    "layer2_4 = Dense(32)(layer1)\n",
    "merge = Concatenate([layer2_1, layer2_2, layer2_3, layer2_4])"
   ],
   "metadata": {
    "collapsed": false
   }
  },
  {
   "cell_type": "code",
   "execution_count": 11,
   "outputs": [
    {
     "name": "stdout",
     "output_type": "stream",
     "text": [
      "Model: \"model_1\"\n",
      "__________________________________________________________________________________________________\n",
      " Layer (type)                   Output Shape         Param #     Connected to                     \n",
      "==================================================================================================\n",
      " input_4 (InputLayer)           [(None, 8)]          0           []                               \n",
      "                                                                                                  \n",
      " dense_13 (Dense)               (None, 128)          1152        ['input_4[0][0]']                \n",
      "                                                                                                  \n",
      " dense_14 (Dense)               (None, 128)          16512       ['dense_13[0][0]']               \n",
      "                                                                                                  \n",
      " dense_15 (Dense)               (None, 64)           8256        ['dense_13[0][0]']               \n",
      "                                                                                                  \n",
      " y1_output (Dense)              (None, 1)            129         ['dense_14[0][0]']               \n",
      "                                                                                                  \n",
      " y2_output (Dense)              (None, 1)            65          ['dense_15[0][0]']               \n",
      "                                                                                                  \n",
      "==================================================================================================\n",
      "Total params: 26,114\n",
      "Trainable params: 26,114\n",
      "Non-trainable params: 0\n",
      "__________________________________________________________________________________________________\n"
     ]
    }
   ],
   "source": [
    "#example on concatenation\n",
    "input_layer = Input(8)\n",
    "first_dense = Dense(units='128', activation='relu')(input_layer)\n",
    "second_dense = Dense(128, activation='relu')(first_dense)\n",
    "y1_output = Dense(1, name='y1_output')(second_dense)\n",
    "third_dense = Dense(64, activation='relu')(first_dense)\n",
    "y2_output = Dense(1, name='y2_output')(third_dense)\n",
    "model = Model(inputs=input_layer, outputs = [y1_output, y2_output])\n",
    "model.summary()"
   ],
   "metadata": {
    "collapsed": false
   }
  },
  {
   "cell_type": "code",
   "execution_count": 15,
   "outputs": [
    {
     "ename": "ImportError",
     "evalue": "cannot import name 'wrappers' from 'tensorflow.python.keras.layers' (C:\\Users\\HP\\AppData\\Local\\Programs\\Python\\Python310\\lib\\site-packages\\tensorflow\\python\\keras\\layers\\__init__.py)",
     "output_type": "error",
     "traceback": [
      "\u001B[1;31m---------------------------------------------------------------------------\u001B[0m",
      "\u001B[1;31mImportError\u001B[0m                               Traceback (most recent call last)",
      "Cell \u001B[1;32mIn[15], line 1\u001B[0m\n\u001B[1;32m----> 1\u001B[0m \u001B[43mplot_model\u001B[49m\u001B[43m(\u001B[49m\u001B[43mmodel\u001B[49m\u001B[43m)\u001B[49m\n",
      "File \u001B[1;32m~\\AppData\\Local\\Programs\\Python\\Python310\\lib\\site-packages\\tensorflow\\python\\keras\\utils\\vis_utils.py:322\u001B[0m, in \u001B[0;36mplot_model\u001B[1;34m(model, to_file, show_shapes, show_dtype, show_layer_names, rankdir, expand_nested, dpi)\u001B[0m\n\u001B[0;32m    278\u001B[0m \u001B[38;5;129m@keras_export\u001B[39m(\u001B[38;5;124m'\u001B[39m\u001B[38;5;124mkeras.utils.plot_model\u001B[39m\u001B[38;5;124m'\u001B[39m)\n\u001B[0;32m    279\u001B[0m \u001B[38;5;28;01mdef\u001B[39;00m \u001B[38;5;21mplot_model\u001B[39m(model,\n\u001B[0;32m    280\u001B[0m                to_file\u001B[38;5;241m=\u001B[39m\u001B[38;5;124m'\u001B[39m\u001B[38;5;124mmodel.png\u001B[39m\u001B[38;5;124m'\u001B[39m,\n\u001B[1;32m   (...)\u001B[0m\n\u001B[0;32m    285\u001B[0m                expand_nested\u001B[38;5;241m=\u001B[39m\u001B[38;5;28;01mFalse\u001B[39;00m,\n\u001B[0;32m    286\u001B[0m                dpi\u001B[38;5;241m=\u001B[39m\u001B[38;5;241m96\u001B[39m):\n\u001B[0;32m    287\u001B[0m \u001B[38;5;250m  \u001B[39m\u001B[38;5;124;03m\"\"\"Converts a Keras model to dot format and save to a file.\u001B[39;00m\n\u001B[0;32m    288\u001B[0m \n\u001B[0;32m    289\u001B[0m \u001B[38;5;124;03m  Example:\u001B[39;00m\n\u001B[1;32m   (...)\u001B[0m\n\u001B[0;32m    320\u001B[0m \u001B[38;5;124;03m    This enables in-line display of the model plots in notebooks.\u001B[39;00m\n\u001B[0;32m    321\u001B[0m \u001B[38;5;124;03m  \"\"\"\u001B[39;00m\n\u001B[1;32m--> 322\u001B[0m   dot \u001B[38;5;241m=\u001B[39m \u001B[43mmodel_to_dot\u001B[49m\u001B[43m(\u001B[49m\n\u001B[0;32m    323\u001B[0m \u001B[43m      \u001B[49m\u001B[43mmodel\u001B[49m\u001B[43m,\u001B[49m\n\u001B[0;32m    324\u001B[0m \u001B[43m      \u001B[49m\u001B[43mshow_shapes\u001B[49m\u001B[38;5;241;43m=\u001B[39;49m\u001B[43mshow_shapes\u001B[49m\u001B[43m,\u001B[49m\n\u001B[0;32m    325\u001B[0m \u001B[43m      \u001B[49m\u001B[43mshow_dtype\u001B[49m\u001B[38;5;241;43m=\u001B[39;49m\u001B[43mshow_dtype\u001B[49m\u001B[43m,\u001B[49m\n\u001B[0;32m    326\u001B[0m \u001B[43m      \u001B[49m\u001B[43mshow_layer_names\u001B[49m\u001B[38;5;241;43m=\u001B[39;49m\u001B[43mshow_layer_names\u001B[49m\u001B[43m,\u001B[49m\n\u001B[0;32m    327\u001B[0m \u001B[43m      \u001B[49m\u001B[43mrankdir\u001B[49m\u001B[38;5;241;43m=\u001B[39;49m\u001B[43mrankdir\u001B[49m\u001B[43m,\u001B[49m\n\u001B[0;32m    328\u001B[0m \u001B[43m      \u001B[49m\u001B[43mexpand_nested\u001B[49m\u001B[38;5;241;43m=\u001B[39;49m\u001B[43mexpand_nested\u001B[49m\u001B[43m,\u001B[49m\n\u001B[0;32m    329\u001B[0m \u001B[43m      \u001B[49m\u001B[43mdpi\u001B[49m\u001B[38;5;241;43m=\u001B[39;49m\u001B[43mdpi\u001B[49m\u001B[43m)\u001B[49m\n\u001B[0;32m    330\u001B[0m   to_file \u001B[38;5;241m=\u001B[39m path_to_string(to_file)\n\u001B[0;32m    331\u001B[0m   \u001B[38;5;28;01mif\u001B[39;00m dot \u001B[38;5;129;01mis\u001B[39;00m \u001B[38;5;28;01mNone\u001B[39;00m:\n",
      "File \u001B[1;32m~\\AppData\\Local\\Programs\\Python\\Python310\\lib\\site-packages\\tensorflow\\python\\keras\\utils\\vis_utils.py:98\u001B[0m, in \u001B[0;36mmodel_to_dot\u001B[1;34m(model, show_shapes, show_dtype, show_layer_names, rankdir, expand_nested, dpi, subgraph)\u001B[0m\n\u001B[0;32m     66\u001B[0m \u001B[38;5;129m@keras_export\u001B[39m(\u001B[38;5;124m'\u001B[39m\u001B[38;5;124mkeras.utils.model_to_dot\u001B[39m\u001B[38;5;124m'\u001B[39m)\n\u001B[0;32m     67\u001B[0m \u001B[38;5;28;01mdef\u001B[39;00m \u001B[38;5;21mmodel_to_dot\u001B[39m(model,\n\u001B[0;32m     68\u001B[0m                  show_shapes\u001B[38;5;241m=\u001B[39m\u001B[38;5;28;01mFalse\u001B[39;00m,\n\u001B[1;32m   (...)\u001B[0m\n\u001B[0;32m     73\u001B[0m                  dpi\u001B[38;5;241m=\u001B[39m\u001B[38;5;241m96\u001B[39m,\n\u001B[0;32m     74\u001B[0m                  subgraph\u001B[38;5;241m=\u001B[39m\u001B[38;5;28;01mFalse\u001B[39;00m):\n\u001B[0;32m     75\u001B[0m \u001B[38;5;250m  \u001B[39m\u001B[38;5;124;03m\"\"\"Convert a Keras model to dot format.\u001B[39;00m\n\u001B[0;32m     76\u001B[0m \n\u001B[0;32m     77\u001B[0m \u001B[38;5;124;03m  Args:\u001B[39;00m\n\u001B[1;32m   (...)\u001B[0m\n\u001B[0;32m     96\u001B[0m \u001B[38;5;124;03m    ImportError: if graphviz or pydot are not available.\u001B[39;00m\n\u001B[0;32m     97\u001B[0m \u001B[38;5;124;03m  \"\"\"\u001B[39;00m\n\u001B[1;32m---> 98\u001B[0m   \u001B[38;5;28;01mfrom\u001B[39;00m \u001B[38;5;21;01mtensorflow\u001B[39;00m\u001B[38;5;21;01m.\u001B[39;00m\u001B[38;5;21;01mpython\u001B[39;00m\u001B[38;5;21;01m.\u001B[39;00m\u001B[38;5;21;01mkeras\u001B[39;00m\u001B[38;5;21;01m.\u001B[39;00m\u001B[38;5;21;01mlayers\u001B[39;00m \u001B[38;5;28;01mimport\u001B[39;00m wrappers\n\u001B[0;32m     99\u001B[0m   \u001B[38;5;28;01mfrom\u001B[39;00m \u001B[38;5;21;01mtensorflow\u001B[39;00m\u001B[38;5;21;01m.\u001B[39;00m\u001B[38;5;21;01mpython\u001B[39;00m\u001B[38;5;21;01m.\u001B[39;00m\u001B[38;5;21;01mkeras\u001B[39;00m\u001B[38;5;21;01m.\u001B[39;00m\u001B[38;5;21;01mengine\u001B[39;00m \u001B[38;5;28;01mimport\u001B[39;00m sequential\n\u001B[0;32m    100\u001B[0m   \u001B[38;5;28;01mfrom\u001B[39;00m \u001B[38;5;21;01mtensorflow\u001B[39;00m\u001B[38;5;21;01m.\u001B[39;00m\u001B[38;5;21;01mpython\u001B[39;00m\u001B[38;5;21;01m.\u001B[39;00m\u001B[38;5;21;01mkeras\u001B[39;00m\u001B[38;5;21;01m.\u001B[39;00m\u001B[38;5;21;01mengine\u001B[39;00m \u001B[38;5;28;01mimport\u001B[39;00m functional\n",
      "\u001B[1;31mImportError\u001B[0m: cannot import name 'wrappers' from 'tensorflow.python.keras.layers' (C:\\Users\\HP\\AppData\\Local\\Programs\\Python\\Python310\\lib\\site-packages\\tensorflow\\python\\keras\\layers\\__init__.py)"
     ]
    }
   ],
   "source": [
    "plot_model(model)"
   ],
   "metadata": {
    "collapsed": false
   }
  },
  {
   "cell_type": "markdown",
   "source": [
    "MULTIPLE INPUTS FOR THE SIAMESE NETWORK"
   ],
   "metadata": {
    "collapsed": false
   }
  },
  {
   "cell_type": "code",
   "execution_count": 18,
   "outputs": [],
   "source": [
    "from tensorflow.keras.layers import Dropout\n",
    "def initialize_base_network():\n",
    "    input = Input(shape= (28, 28,))\n",
    "    x = Flatten()(input)\n",
    "    x = Dense(128, activation='relu')(x)\n",
    "    x = Dropout(0.1)(x)\n",
    "    x = Dense(128, activation='relu')(x)\n",
    "    x = Dropout(0.1)(x)\n",
    "    x = Dense(128, activation='relu')(x)\n",
    "    return Model(inputs= input, outputs=x)\n",
    "base_network = initialize_base_network()\n",
    "input_a = Input(shape=(28, 28, ))\n",
    "input_b = Input(shape=(28, 28, ))\n",
    "vect_output_a = base_network(input_a)\n",
    "vect_output_b = base_network(input_b)\n"
   ],
   "metadata": {
    "collapsed": false
   }
  },
  {
   "cell_type": "code",
   "execution_count": 22,
   "outputs": [
    {
     "name": "stdout",
     "output_type": "stream",
     "text": [
      "Model: \"model_3\"\n",
      "_________________________________________________________________\n",
      " Layer (type)                Output Shape              Param #   \n",
      "=================================================================\n",
      " input_8 (InputLayer)        [(None, 28, 28)]          0         \n",
      "                                                                 \n",
      " flatten_3 (Flatten)         (None, 784)               0         \n",
      "                                                                 \n",
      " dense_19 (Dense)            (None, 128)               100480    \n",
      "                                                                 \n",
      " dropout_2 (Dropout)         (None, 128)               0         \n",
      "                                                                 \n",
      " dense_20 (Dense)            (None, 128)               16512     \n",
      "                                                                 \n",
      " dropout_3 (Dropout)         (None, 128)               0         \n",
      "                                                                 \n",
      " dense_21 (Dense)            (None, 128)               16512     \n",
      "                                                                 \n",
      "=================================================================\n",
      "Total params: 133,504\n",
      "Trainable params: 133,504\n",
      "Non-trainable params: 0\n",
      "_________________________________________________________________\n"
     ]
    }
   ],
   "source": [],
   "metadata": {
    "collapsed": false
   }
  },
  {
   "cell_type": "code",
   "execution_count": null,
   "outputs": [],
   "source": [],
   "metadata": {
    "collapsed": false
   }
  }
 ],
 "metadata": {
  "kernelspec": {
   "display_name": "Python 3",
   "language": "python",
   "name": "python3"
  },
  "language_info": {
   "codemirror_mode": {
    "name": "ipython",
    "version": 2
   },
   "file_extension": ".py",
   "mimetype": "text/x-python",
   "name": "python",
   "nbconvert_exporter": "python",
   "pygments_lexer": "ipython2",
   "version": "2.7.6"
  }
 },
 "nbformat": 4,
 "nbformat_minor": 0
}
